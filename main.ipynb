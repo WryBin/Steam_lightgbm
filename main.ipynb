{
 "cells": [
  {
   "cell_type": "code",
   "execution_count": 2,
   "metadata": {},
   "outputs": [],
   "source": [
    "# !git clone https://github.com/WryBin/Steam_lightgbm.git\n",
    "# !mv Steam_lightgbm/* ."
   ]
  },
  {
   "cell_type": "code",
   "execution_count": 5,
   "metadata": {},
   "outputs": [
    {
     "name": "stderr",
     "output_type": "stream",
     "text": [
      "/tmp/ipykernel_16023/20147448.py:20: SettingWithCopyWarning: \n",
      "A value is trying to be set on a copy of a slice from a DataFrame\n",
      "\n",
      "See the caveats in the documentation: https://pandas.pydata.org/pandas-docs/stable/user_guide/indexing.html#returning-a-view-versus-a-copy\n",
      "  combi['Water_level_cum'][-61:] = np.linspace(69, 72, 61)\n",
      "/mnt/DATA1/wuliubin/miniconda3/envs/metro/lib/python3.9/site-packages/lightgbm/engine.py:577: UserWarning: 'early_stopping_rounds' argument is deprecated and will be removed in a future release of LightGBM. Pass 'early_stopping()' callback via 'callbacks' argument instead.\n",
      "  _log_warning(\"'early_stopping_rounds' argument is deprecated and will be removed in a future release of LightGBM. \"\n"
     ]
    },
    {
     "ename": "KeyboardInterrupt",
     "evalue": "",
     "output_type": "error",
     "traceback": [
      "\u001b[0;31m---------------------------------------------------------------------------\u001b[0m",
      "\u001b[0;31mKeyboardInterrupt\u001b[0m                         Traceback (most recent call last)",
      "\u001b[1;32m/mnt/DATA1/wuliubin/Download/steam/lightgbm/main.ipynb Cell 2\u001b[0m in \u001b[0;36m<cell line: 34>\u001b[0;34m()\u001b[0m\n\u001b[1;32m     <a href='vscode-notebook-cell://ssh-remote%2B10.24.99.189/mnt/DATA1/wuliubin/Download/steam/lightgbm/main.ipynb#X12sdnNjb2RlLXJlbW90ZQ%3D%3D?line=29'>30</a>\u001b[0m features \u001b[39m=\u001b[39m [\u001b[39m'\u001b[39m\u001b[39m2wind\u001b[39m\u001b[39m'\u001b[39m, \u001b[39m'\u001b[39m\u001b[39mSO2\u001b[39m\u001b[39m'\u001b[39m,\u001b[39m'\u001b[39m\u001b[39mNOx\u001b[39m\u001b[39m'\u001b[39m, \u001b[39m'\u001b[39m\u001b[39mFan_speed\u001b[39m\u001b[39m'\u001b[39m, \u001b[39m'\u001b[39m\u001b[39mGrate_run\u001b[39m\u001b[39m'\u001b[39m,\u001b[39m'\u001b[39m\u001b[39mWater_level_cum\u001b[39m\u001b[39m'\u001b[39m]\n\u001b[1;32m     <a href='vscode-notebook-cell://ssh-remote%2B10.24.99.189/mnt/DATA1/wuliubin/Download/steam/lightgbm/main.ipynb#X12sdnNjb2RlLXJlbW90ZQ%3D%3D?line=31'>32</a>\u001b[0m \u001b[39mif\u001b[39;00m \u001b[39mTrue\u001b[39;00m:\n\u001b[1;32m     <a href='vscode-notebook-cell://ssh-remote%2B10.24.99.189/mnt/DATA1/wuliubin/Download/steam/lightgbm/main.ipynb#X12sdnNjb2RlLXJlbW90ZQ%3D%3D?line=32'>33</a>\u001b[0m   \u001b[39m# redivision\u001b[39;00m\n\u001b[0;32m---> <a href='vscode-notebook-cell://ssh-remote%2B10.24.99.189/mnt/DATA1/wuliubin/Download/steam/lightgbm/main.ipynb#X12sdnNjb2RlLXJlbW90ZQ%3D%3D?line=33'>34</a>\u001b[0m   sample_weight, adv_cv_results \u001b[39m=\u001b[39m utils\u001b[39m.\u001b[39;49madv_val(Train_data, pred_data, features)\n\u001b[1;32m     <a href='vscode-notebook-cell://ssh-remote%2B10.24.99.189/mnt/DATA1/wuliubin/Download/steam/lightgbm/main.ipynb#X12sdnNjb2RlLXJlbW90ZQ%3D%3D?line=34'>35</a>\u001b[0m   Train_data[\u001b[39m'\u001b[39m\u001b[39msample_weight\u001b[39m\u001b[39m'\u001b[39m] \u001b[39m=\u001b[39m sample_weight[:\u001b[39m-\u001b[39m\u001b[39m1800\u001b[39m]\n\u001b[1;32m     <a href='vscode-notebook-cell://ssh-remote%2B10.24.99.189/mnt/DATA1/wuliubin/Download/steam/lightgbm/main.ipynb#X12sdnNjb2RlLXJlbW90ZQ%3D%3D?line=35'>36</a>\u001b[0m   \u001b[39m# train_data = Train_data[Train_data['sample_weight'] < 0.005]\u001b[39;00m\n",
      "File \u001b[0;32m~/Download/steam/lightgbm/utils.py:123\u001b[0m, in \u001b[0;36madv_val\u001b[0;34m(Train_data, pred_data, features)\u001b[0m\n\u001b[1;32m    109\u001b[0m \u001b[39m# 定义模型参数\u001b[39;00m\n\u001b[1;32m    110\u001b[0m params \u001b[39m=\u001b[39m {\n\u001b[1;32m    111\u001b[0m \u001b[39m'\u001b[39m\u001b[39mboosting_type\u001b[39m\u001b[39m'\u001b[39m: \u001b[39m'\u001b[39m\u001b[39mgbdt\u001b[39m\u001b[39m'\u001b[39m,\n\u001b[1;32m    112\u001b[0m \u001b[39m'\u001b[39m\u001b[39mobjective\u001b[39m\u001b[39m'\u001b[39m: \u001b[39m'\u001b[39m\u001b[39mbinary\u001b[39m\u001b[39m'\u001b[39m,\n\u001b[0;32m   (...)\u001b[0m\n\u001b[1;32m    120\u001b[0m \u001b[39m'\u001b[39m\u001b[39msub_feature\u001b[39m\u001b[39m'\u001b[39m: \u001b[39m0.7\u001b[39m, \n\u001b[1;32m    121\u001b[0m }\n\u001b[0;32m--> 123\u001b[0m adv_cv_results \u001b[39m=\u001b[39m lgb\u001b[39m.\u001b[39;49mcv(\n\u001b[1;32m    124\u001b[0m     params, \n\u001b[1;32m    125\u001b[0m     adv_data,\n\u001b[1;32m    126\u001b[0m     num_boost_round\u001b[39m=\u001b[39;49m\u001b[39m30\u001b[39;49m, \n\u001b[1;32m    127\u001b[0m     nfold\u001b[39m=\u001b[39;49m\u001b[39m5\u001b[39;49m, \n\u001b[1;32m    128\u001b[0m     early_stopping_rounds\u001b[39m=\u001b[39;49m\u001b[39m10\u001b[39;49m, \n\u001b[1;32m    129\u001b[0m     \u001b[39m# verbose_eval=True, \u001b[39;49;00m\n\u001b[1;32m    130\u001b[0m     seed\u001b[39m=\u001b[39;49m\u001b[39m42\u001b[39;49m)\n\u001b[1;32m    132\u001b[0m \u001b[39m# print('交叉验证中最优的AUC为 {:.5f}，对应的标准差为{:.5f}.'.format(\u001b[39;00m\n\u001b[1;32m    133\u001b[0m \u001b[39m#     adv_cv_results['auc-mean'][-1], adv_cv_results['auc-stdv'][-1]))\u001b[39;00m\n\u001b[1;32m    134\u001b[0m \n\u001b[1;32m    135\u001b[0m \u001b[39m# print('模型最优的迭代次数为{}.'.format(len(adv_cv_results['auc-mean'])))\u001b[39;00m\n\u001b[1;32m    136\u001b[0m \n\u001b[1;32m    137\u001b[0m \u001b[39m# 使用训练好的模型，对所有的样本进行预测，得到各个样本属于测试集的概率\u001b[39;00m\n\u001b[1;32m    138\u001b[0m params[\u001b[39m'\u001b[39m\u001b[39mn_estimators\u001b[39m\u001b[39m'\u001b[39m] \u001b[39m=\u001b[39m \u001b[39mlen\u001b[39m(adv_cv_results[\u001b[39m'\u001b[39m\u001b[39mauc-mean\u001b[39m\u001b[39m'\u001b[39m])\n",
      "File \u001b[0;32m~/miniconda3/envs/metro/lib/python3.9/site-packages/lightgbm/engine.py:640\u001b[0m, in \u001b[0;36mcv\u001b[0;34m(params, train_set, num_boost_round, folds, nfold, stratified, shuffle, metrics, fobj, feval, init_model, feature_name, categorical_feature, early_stopping_rounds, fpreproc, verbose_eval, show_stdv, seed, callbacks, eval_train_metric, return_cvbooster)\u001b[0m\n\u001b[1;32m    633\u001b[0m \u001b[39mfor\u001b[39;00m cb \u001b[39min\u001b[39;00m callbacks_before_iter:\n\u001b[1;32m    634\u001b[0m     cb(callback\u001b[39m.\u001b[39mCallbackEnv(model\u001b[39m=\u001b[39mcvfolds,\n\u001b[1;32m    635\u001b[0m                             params\u001b[39m=\u001b[39mparams,\n\u001b[1;32m    636\u001b[0m                             iteration\u001b[39m=\u001b[39mi,\n\u001b[1;32m    637\u001b[0m                             begin_iteration\u001b[39m=\u001b[39m\u001b[39m0\u001b[39m,\n\u001b[1;32m    638\u001b[0m                             end_iteration\u001b[39m=\u001b[39mnum_boost_round,\n\u001b[1;32m    639\u001b[0m                             evaluation_result_list\u001b[39m=\u001b[39m\u001b[39mNone\u001b[39;00m))\n\u001b[0;32m--> 640\u001b[0m cvfolds\u001b[39m.\u001b[39;49mupdate(fobj\u001b[39m=\u001b[39;49mfobj)\n\u001b[1;32m    641\u001b[0m res \u001b[39m=\u001b[39m _agg_cv_result(cvfolds\u001b[39m.\u001b[39meval_valid(feval), eval_train_metric)\n\u001b[1;32m    642\u001b[0m \u001b[39mfor\u001b[39;00m _, key, mean, _, std \u001b[39min\u001b[39;00m res:\n",
      "File \u001b[0;32m~/miniconda3/envs/metro/lib/python3.9/site-packages/lightgbm/engine.py:353\u001b[0m, in \u001b[0;36mCVBooster.__getattr__.<locals>.handler_function\u001b[0;34m(*args, **kwargs)\u001b[0m\n\u001b[1;32m    351\u001b[0m ret \u001b[39m=\u001b[39m []\n\u001b[1;32m    352\u001b[0m \u001b[39mfor\u001b[39;00m booster \u001b[39min\u001b[39;00m \u001b[39mself\u001b[39m\u001b[39m.\u001b[39mboosters:\n\u001b[0;32m--> 353\u001b[0m     ret\u001b[39m.\u001b[39mappend(\u001b[39mgetattr\u001b[39;49m(booster, name)(\u001b[39m*\u001b[39;49margs, \u001b[39m*\u001b[39;49m\u001b[39m*\u001b[39;49mkwargs))\n\u001b[1;32m    354\u001b[0m \u001b[39mreturn\u001b[39;00m ret\n",
      "File \u001b[0;32m~/miniconda3/envs/metro/lib/python3.9/site-packages/lightgbm/basic.py:3021\u001b[0m, in \u001b[0;36mBooster.update\u001b[0;34m(self, train_set, fobj)\u001b[0m\n\u001b[1;32m   3019\u001b[0m \u001b[39mif\u001b[39;00m \u001b[39mself\u001b[39m\u001b[39m.\u001b[39m__set_objective_to_none:\n\u001b[1;32m   3020\u001b[0m     \u001b[39mraise\u001b[39;00m LightGBMError(\u001b[39m'\u001b[39m\u001b[39mCannot update due to null objective function.\u001b[39m\u001b[39m'\u001b[39m)\n\u001b[0;32m-> 3021\u001b[0m _safe_call(_LIB\u001b[39m.\u001b[39;49mLGBM_BoosterUpdateOneIter(\n\u001b[1;32m   3022\u001b[0m     \u001b[39mself\u001b[39;49m\u001b[39m.\u001b[39;49mhandle,\n\u001b[1;32m   3023\u001b[0m     ctypes\u001b[39m.\u001b[39;49mbyref(is_finished)))\n\u001b[1;32m   3024\u001b[0m \u001b[39mself\u001b[39m\u001b[39m.\u001b[39m__is_predicted_cur_iter \u001b[39m=\u001b[39m [\u001b[39mFalse\u001b[39;00m \u001b[39mfor\u001b[39;00m _ \u001b[39min\u001b[39;00m \u001b[39mrange\u001b[39m(\u001b[39mself\u001b[39m\u001b[39m.\u001b[39m__num_dataset)]\n\u001b[1;32m   3025\u001b[0m \u001b[39mreturn\u001b[39;00m is_finished\u001b[39m.\u001b[39mvalue \u001b[39m==\u001b[39m \u001b[39m1\u001b[39m\n",
      "\u001b[0;31mKeyboardInterrupt\u001b[0m: "
     ]
    }
   ],
   "source": [
    "import numpy as np\n",
    "import pandas as pd\n",
    "import seaborn as sns\n",
    "import lightgbm as lgb\n",
    "from matplotlib import pyplot as plt\n",
    "from sklearn.model_selection import train_test_split\n",
    "from sklearn.metrics import mean_squared_error\n",
    "\n",
    "import utils\n",
    "import models\n",
    "\n",
    "\n",
    "\n",
    "# 读取数据\n",
    "# combi = pd.read_csv('/content/drive/MyDrive/Steam/combi.csv')\n",
    "combi = pd.read_csv('Dataset/combi.csv')\n",
    "\n",
    "Water_level_cum = (np.cumsum(combi['Water_level']-combi['Water_level'].mean())/200).shift(-61)\n",
    "combi['Water_level_cum'] = Water_level_cum + combi['Water_flow']\n",
    "combi['Water_level_cum'][-61:] = np.linspace(69, 72, 61)\n",
    "\n",
    "# 数据集划分\n",
    "Train_data = combi[(combi['Time'] > '2021-12-22 08:00:00') & (combi['Time'] < '2021-12-22 23:30:00')]\n",
    "pred_data = combi[combi['Time'] >= '2021-12-22 23:30:00']\n",
    "\n",
    "# train_data, val_data = train_test_split(Train_data, test_size=0.2, random_state=42)\n",
    "\n",
    "\n",
    "# # 特征选择\n",
    "features = ['2wind', 'SO2','NOx', 'Fan_speed', 'Grate_run','Water_level_cum']\n",
    "\n",
    "if True:\n",
    "  # redivision\n",
    "  sample_weight, adv_cv_results = utils.adv_val(Train_data, pred_data, features)\n",
    "  Train_data['sample_weight'] = sample_weight[:-1800]\n",
    "  # train_data = Train_data[Train_data['sample_weight'] < 0.005]\n",
    "  val_data = Train_data[Train_data['sample_weight'] >= 0.015]\n",
    "  Train_data.loc[Train_data['sample_weight'] >= 0.015, 'sample_weight'] = None\n",
    "  Train_data['Is_Train'] = Train_data.loc[:, 'sample_weight'].rolling(200, center=True).sum()\n",
    "  train_data = Train_data[Train_data['Is_Train'] > 0]\n",
    "\n",
    "  print('train_data:', train_data.shape)\n",
    "  print('val_data:', val_data.shape)"
   ]
  },
  {
   "cell_type": "code",
   "execution_count": null,
   "metadata": {},
   "outputs": [],
   "source": [
    "# 参数设置\n",
    "Mode = 'train'\n",
    "\n",
    "if Mode == 'pred':\n",
    "    train_data = pd.concat([train_data, val_data], axis=0)\n",
    "\n",
    "# 模型选择及运行\n",
    "# # linear_regression\n",
    "# Y_train, Y_val, Y_pred, model = models.linear_regression(train_data, val_data, pred_data, features)\n",
    "\n",
    "# # # linear_regression_cv\n",
    "# model, scores = models.linear_regression_cv(train_data, features)\n",
    "\n",
    "# LightGBM\n",
    "Y_train, Y_val, Y_pred, model= models.LightGBM(train_data, val_data, pred_data, features, Mode)\n",
    "lgb.plot_importance(model, max_num_features=21)\n",
    "\n",
    "# # LightGBM_param_cv\n",
    "# model= models.LightGBM_param_cv(train_data, val_data, pred_data, features, Mode)\n",
    "\n",
    "# # XGBoost\n",
    "# Y_train, Y_val, Y_pred, model= models.XGBoost(train_data, val_data, pred_data, features, Mode)\n",
    "\n",
    "# # XGBoost_param_cv\n",
    "# model= models.XGBoost_param_cv(train_data, val_data, pred_data, features, Mode)\n",
    "# model.best_params_\n",
    "\n",
    "# # Arima\n",
    "# result = models.Arima(train_data, val_data, pred_data, features, Mode)\n",
    "\n",
    "# # Elastic_net\n",
    "# Y_train, Y_val, Y_pred, model = models.ElasticNet(train_data, val_data, pred_data, features, Mode)\n",
    "\n",
    "# # Elastic_net_cv\n",
    "# model = models.ElascicNet_cv(train_data, val_data, pred_data, features, Mode)"
   ]
  },
  {
   "cell_type": "code",
   "execution_count": null,
   "metadata": {},
   "outputs": [],
   "source": [
    "print('train_error:', mean_squared_error(train_data['Steam_flow'], Y_train, squared=False))\n",
    "print('val_error', mean_squared_error(val_data['Steam_flow'], Y_val, squared=False))\n",
    "\n",
    "plt.figure(figsize=(20, 10))\n",
    "plt.plot(np.arange(len(train_data)), train_data['Steam_flow'], color='black')\n",
    "plt.plot(np.arange(len(train_data)), Y_train, color='blue')\n",
    "plt.ylabel('Steam_flow')\n",
    "plt.legend(['真实值','预测值'],loc='upper right')\n",
    "\n",
    "plt.figure(figsize=(20, 10))\n",
    "plt.plot(np.arange(len(val_data)), val_data['Steam_flow'], color='black')\n",
    "plt.plot(np.arange(len(val_data)), Y_val, color='blue')\n",
    "plt.ylabel('Steam_flow')\n",
    "plt.legend(['真实值','预测值'],loc='upper right')\n",
    "plt.grid()\n",
    "plt.show()\n",
    "\n",
    "plt.figure(figsize=(20, 10))\n",
    "plt.plot(np.arange(len(pred_data)), combi['Water_level_cum'][-1800:])\n",
    "plt.plot(np.arange(len(pred_data)), Y_pred, color='blue')\n"
   ]
  },
  {
   "cell_type": "code",
   "execution_count": null,
   "metadata": {},
   "outputs": [],
   "source": [
    "pred_data['ID'] = np.arange(1, len(pred_data)+1)\n",
    "pred_data['Steam_flow'] = Y_pred\n",
    "pred_data = pred_data[['ID', 'Time', 'Steam_flow']]\n",
    "pred_data.to_csv(\"Results/result.csv\", index=False, sep=',')"
   ]
  }
 ],
 "metadata": {
  "kernelspec": {
   "display_name": "Python 3.9.13 ('metro')",
   "language": "python",
   "name": "python3"
  },
  "language_info": {
   "codemirror_mode": {
    "name": "ipython",
    "version": 3
   },
   "file_extension": ".py",
   "mimetype": "text/x-python",
   "name": "python",
   "nbconvert_exporter": "python",
   "pygments_lexer": "ipython3",
   "version": "3.9.13"
  },
  "orig_nbformat": 4,
  "vscode": {
   "interpreter": {
    "hash": "f7382409c0718be7deb72b4417a98bad7c6c9b79245512f2c3556c6c05fa6b9b"
   }
  }
 },
 "nbformat": 4,
 "nbformat_minor": 2
}

{
 "cells": [
  {
   "cell_type": "code",
   "execution_count": 3,
   "metadata": {},
   "outputs": [
    {
     "name": "stderr",
     "output_type": "stream",
     "text": [
      "/mnt/DATA1/wuliubin/miniconda3/envs/metro/lib/python3.9/site-packages/multimethod/__init__.py:312: SettingWithCopyWarning: \n",
      "A value is trying to be set on a copy of a slice from a DataFrame\n",
      "\n",
      "See the caveats in the documentation: https://pandas.pydata.org/pandas-docs/stable/user_guide/indexing.html#returning-a-view-versus-a-copy\n",
      "  return func(*args, **kwargs)\n"
     ]
    },
    {
     "data": {
      "application/json": {
       "ascii": false,
       "bar_format": null,
       "colour": null,
       "elapsed": 0.01442265510559082,
       "initial": 0,
       "n": 0,
       "ncols": null,
       "nrows": null,
       "postfix": null,
       "prefix": "Summarize dataset",
       "rate": null,
       "total": 5,
       "unit": "it",
       "unit_divisor": 1000,
       "unit_scale": false
      },
      "application/vnd.jupyter.widget-view+json": {
       "model_id": "1e492e00ffac408f88a7ea87070d0bd9",
       "version_major": 2,
       "version_minor": 0
      },
      "text/plain": [
       "Summarize dataset:   0%|          | 0/5 [00:00<?, ?it/s]"
      ]
     },
     "metadata": {},
     "output_type": "display_data"
    },
    {
     "data": {
      "application/json": {
       "ascii": false,
       "bar_format": null,
       "colour": null,
       "elapsed": 0.014302730560302734,
       "initial": 0,
       "n": 0,
       "ncols": null,
       "nrows": null,
       "postfix": null,
       "prefix": "Generate report structure",
       "rate": null,
       "total": 1,
       "unit": "it",
       "unit_divisor": 1000,
       "unit_scale": false
      },
      "application/vnd.jupyter.widget-view+json": {
       "model_id": "776c42337bd9404ea0e845accf3c561b",
       "version_major": 2,
       "version_minor": 0
      },
      "text/plain": [
       "Generate report structure:   0%|          | 0/1 [00:00<?, ?it/s]"
      ]
     },
     "metadata": {},
     "output_type": "display_data"
    },
    {
     "data": {
      "application/json": {
       "ascii": false,
       "bar_format": null,
       "colour": null,
       "elapsed": 0.01390695571899414,
       "initial": 0,
       "n": 0,
       "ncols": null,
       "nrows": null,
       "postfix": null,
       "prefix": "Render HTML",
       "rate": null,
       "total": 1,
       "unit": "it",
       "unit_divisor": 1000,
       "unit_scale": false
      },
      "application/vnd.jupyter.widget-view+json": {
       "model_id": "bec99f7fa41e4511908f92c52fe73fb3",
       "version_major": 2,
       "version_minor": 0
      },
      "text/plain": [
       "Render HTML:   0%|          | 0/1 [00:00<?, ?it/s]"
      ]
     },
     "metadata": {},
     "output_type": "display_data"
    },
    {
     "data": {
      "application/json": {
       "ascii": false,
       "bar_format": null,
       "colour": null,
       "elapsed": 0.01340484619140625,
       "initial": 0,
       "n": 0,
       "ncols": null,
       "nrows": null,
       "postfix": null,
       "prefix": "Export report to file",
       "rate": null,
       "total": 1,
       "unit": "it",
       "unit_divisor": 1000,
       "unit_scale": false
      },
      "application/vnd.jupyter.widget-view+json": {
       "model_id": "0fa2e479e67d404a893262abc17f9921",
       "version_major": 2,
       "version_minor": 0
      },
      "text/plain": [
       "Export report to file:   0%|          | 0/1 [00:00<?, ?it/s]"
      ]
     },
     "metadata": {},
     "output_type": "display_data"
    }
   ],
   "source": [
    "import time\n",
    "import sklearn\n",
    "import numpy as np\n",
    "import pandas as pd\n",
    "import seaborn as sns\n",
    "import lightgbm as lgb\n",
    "\n",
    "import matplotlib.pyplot as plt\n",
    "\n",
    "from sklearn.model_selection import train_test_split\n",
    "from sklearn.metrics import mean_squared_error\n",
    "from sklearn.model_selection import train_test_split\n",
    "from sklearn.model_selection import GridSearchCV\n",
    "from sklearn import metrics\n",
    "from sklearn.linear_model import LinearRegression, LassoCV, RidgeCV, ElasticNetCV\n",
    "from xgboost import XGBRegressor\n",
    "from lightgbm import LGBMRegressor\n",
    "from sklearn.metrics import make_scorer,mean_squared_error\n",
    "from sklearn.pipeline import Pipeline\n",
    "from sklearn.ensemble import RandomForestRegressor\n",
    "from sklearn.ensemble import GradientBoostingRegressor\n",
    "from bayes_opt import BayesianOptimization\n",
    "from sklearn.model_selection import cross_val_score,StratifiedKFold\n",
    "from sklearn.preprocessing import MinMaxScaler,StandardScaler,Normalizer,PolynomialFeatures\n",
    "\n",
    "import utils\n",
    "import models\n",
    "\n",
    "# 读取数据\n",
    "combi = pd.read_csv('Dataset/combi.csv')\n",
    "\n",
    "# 数据集划分\n",
    "# train_data = combi[combi['Time'] < '2021-12-22 08:00:00']\n",
    "# val_data = combi[(combi['Time'] > '2021-12-22 08:00:00') & (combi['Time'] < '2021-12-22 23:30:00')]\n",
    "Train_data = combi[combi['Time'] < '2021-12-22 23:30:00']\n",
    "train_data, val_data = train_test_split(Train_data, test_size=0.2, random_state=42)\n",
    "pred_data = combi[combi['Time'] >= '2021-12-22 23:30:00']\n",
    "\n",
    "# 特征选择\n",
    "features = ['2wind', 'SO2', 'Water_level', 'NOx', 'Water_flow', 'Water_flow_shift', 'Steam_flow']\n",
    "\n",
    "# 导出分析报告\n",
    "import pandas_profiling\n",
    "pfr = pandas_profiling.ProfileReport(combi[features])\n",
    "pfr.to_file(\"combi.html\")"
   ]
  },
  {
   "cell_type": "code",
   "execution_count": null,
   "metadata": {},
   "outputs": [],
   "source": [
    "# 数据标准化\n",
    "scaler = [PolynomialFeatures(len(features)), MinMaxScaler(), StandardScaler(), Normalizer()]\n",
    "x_train=scaler[0].fit_transform(train_data[features])\n",
    "x_val =scaler[0].transform(val_data[features])"
   ]
  },
  {
   "cell_type": "code",
   "execution_count": null,
   "metadata": {},
   "outputs": [],
   "source": [
    "# 各模型初步评估\n",
    "lr = LinearRegression()\n",
    "rgcv=RidgeCV()\n",
    "eltcv=ElasticNetCV()\n",
    "lasso=LassoCV()\n",
    "# rf =RandomForestRegressor()  # 这个需要很长的时间\n",
    "gbdt=GradientBoostingRegressor()\n",
    "xgb =XGBRegressor()\n",
    "lgbm = LGBMRegressor()\n",
    "models =[lr,rgcv,eltcv, lasso, gbdt ,xgb,lgbm]\n",
    "\n",
    "for model in models:\n",
    "    model=model.fit(x_train,train_data['Steam_flow'])\n",
    "    predict_val=model.predict(x_val)\n",
    "    print(model)\n",
    "    print('val r2_score :',metrics.r2_score(val_data['Steam_flow'],predict_val))\n",
    "    print('val mean_squared_error :',metrics.mean_squared_error(val_data['Steam_flow'],predict_val))\n",
    "    print('**********************************')"
   ]
  },
  {
   "cell_type": "code",
   "execution_count": null,
   "metadata": {},
   "outputs": [],
   "source": [
    "model_lgb=LGBMRegressor(random_state=2021)\n",
    "params_dic=dict(learning_rate=[0.01, 0.1, 1], n_estimators=[20,50,120,300], \n",
    "                num_leaves=[10,30],max_depth=[-1,4,10])\n",
    "grid_search = GridSearchCV(model_lgb, cv=5,\n",
    "                param_grid=params_dic,\n",
    "                scoring='neg_mean_squared_error')\n",
    "grid_search.fit(x_train,train_data['Steam_flow'])\n",
    "print(f'最好的参数是:{grid_search.best_params_}')\n",
    "print(f'最好的分数是:{-grid_search.best_score_}')\n",
    "\n",
    "# 根据得到的参数进行训练\n",
    "lgb_final =LGBMRegressor(random_state=2021,learning_rate= 0.1, max_depth= 5,\n",
    "                        n_estimators=200, num_leaves= 50)\n",
    "lgb_final.fit(x_train,train_data['Steam_flow'])\n",
    "val_pred =lgb_final.predict(x_val)\n",
    "print(f\"mean_squared_error:{metrics.mean_squared_error(val_data['Steam_flow'],val_pred)}\")"
   ]
  },
  {
   "cell_type": "code",
   "execution_count": null,
   "metadata": {},
   "outputs": [],
   "source": [
    "xgb_re=XGBRegressor(seed=27,learning_rate=0.1, n_estimators=300,silent=0, objective='reg:linear',\n",
    "                         gamma=0,subsample=0.8,colsample_bytree=0.8,nthread=4,scale_pos_weight=1)\n",
    "xgb_params ={'n_estimators':[50,100,120],'min_child_weight':list(range(1,4,2)),}\n",
    "best_model= GridSearchCV(xgb_re,param_grid=xgb_params,refit=True,\n",
    "                        cv=5,scoring='neg_mean_squared_error')\n",
    "best_model.fit(x_train,train_data['Steam_flow'])\n",
    "print('best_parameters:',best_model.best_params_) \n",
    "print(f'最好的分数是:{-grid_search.best_score_}')\n",
    "\n",
    "xgb_final=XGBRegressor(seed=27,learning_rate=0.1, objective='reg:linear',\n",
    "                gamma=0.2,subsample=0.5,\n",
    "                colsample_bytree=0.8,nthread=1,scale_pos_weight=1,\n",
    "                    min_child_weight=0.3, n_estimators=300)\n",
    "                                                    \n",
    "xgb_final.fit(x_train,train_data['Steam_flow'])\n",
    "val_pred =xgb_final.predict(x_val)\n",
    "print(f\"mean_squared_error:{metrics.mean_squared_error(val_data['Steam_flow'],val_pred)}\")"
   ]
  }
 ],
 "metadata": {
  "kernelspec": {
   "display_name": "Python 3.9.13 ('metro')",
   "language": "python",
   "name": "python3"
  },
  "language_info": {
   "codemirror_mode": {
    "name": "ipython",
    "version": 3
   },
   "file_extension": ".py",
   "mimetype": "text/x-python",
   "name": "python",
   "nbconvert_exporter": "python",
   "pygments_lexer": "ipython3",
   "version": "3.9.13"
  },
  "orig_nbformat": 4,
  "vscode": {
   "interpreter": {
    "hash": "f7382409c0718be7deb72b4417a98bad7c6c9b79245512f2c3556c6c05fa6b9b"
   }
  }
 },
 "nbformat": 4,
 "nbformat_minor": 2
}
